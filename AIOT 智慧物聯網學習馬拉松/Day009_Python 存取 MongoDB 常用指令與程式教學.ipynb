{
 "cells": [
  {
   "cell_type": "markdown",
   "metadata": {},
   "source": [
    "# 作業： 使用 Python 操作 MongoDB"
   ]
  },
  {
   "cell_type": "markdown",
   "metadata": {},
   "source": [
    "# [作業目標]\n",
    "* 能夠使用 Python 對 MongoDB 的資料進行增刪改查操作。\n",
    "* 使用 Robo 3T 工具查看資料。"
   ]
  },
  {
   "cell_type": "markdown",
   "metadata": {},
   "source": [
    "# [作業重點]\n",
    "* 執行程式前，MongoDB Server 記得要先開啟。\n",
    "* 若 DB、Collection 原本不存在，則直到有第一筆資料 insert 進去，才會真的建立 DB 及 Collection"
   ]
  },
  {
   "cell_type": "markdown",
   "metadata": {},
   "source": [
    "# 作業1\n",
    "* 建立 DB 及 Collection (名稱自訂)，使用 Python 取得連線。"
   ]
  },
  {
   "cell_type": "code",
   "execution_count": 8,
   "metadata": {},
   "outputs": [
    {
     "name": "stdout",
     "output_type": "stream",
     "text": [
      "[{'_id': ObjectId('60e181eda14477530dacb34f'), 'name': 'Cathy', 'email': 'test@abc.com', 'phone': '0912345678', 'age': 25}, {'_id': ObjectId('60e1836ea945dd9bff1c8ce8'), 'name': 'Cathy', 'email': 'test@abc.com', 'phone': '0912345678', 'age': 25.0}, {'_id': ObjectId('60e1a430a945dd9bff1c8ce9'), 'a': 1.0}, {'_id': ObjectId('60e1a430a945dd9bff1c8cea'), 'b': 2.0}]\n"
     ]
    }
   ],
   "source": [
    "from pymongo import MongoClient\n",
    "\n",
    "# 和 mongo 取得連線\n",
    "client = MongoClient(host='127.0.0.1', port=27017)\n",
    "# 和資料庫取得連線\n",
    "db = client['test']\n",
    "# 和資料集取得連線 (table)\n",
    "collection = db['member']\n",
    "\n",
    "result = collection.find()\n",
    "print([i for i in result])"
   ]
  },
  {
   "cell_type": "markdown",
   "metadata": {},
   "source": [
    "# 作業2\n",
    "* 使用 Python 操作 Mongo 中的資料。"
   ]
  },
  {
   "cell_type": "code",
   "execution_count": 17,
   "metadata": {},
   "outputs": [
    {
     "name": "stdout",
     "output_type": "stream",
     "text": [
      "[{'_id': ObjectId('60e2b95087b0c76e8ef3f74b'), 'name': 'nick', 'email': 'nickchen1998@gmail.com', 'phone': '0930182193', 'age': '18'}, {'_id': ObjectId('60e2b96c87b0c76e8ef3f74c'), 'name': 'nick', 'email': 'nickchen1998@gmail.com', 'phone': '0930182193', 'age': '18'}, {'_id': ObjectId('60e2b98c87b0c76e8ef3f74d'), 'name': 'nick', 'email': 'nickchen1998@gmail.com', 'phone': '0930182193', 'age': '18'}, {'_id': ObjectId('60e2b9ab87b0c76e8ef3f74e'), 'name': 'nick', 'email': 'nickchen1998@gmail.com', 'phone': '0930182193', 'age': '18'}, {'_id': ObjectId('60e2b9c587b0c76e8ef3f74f'), 'name': 'nick', 'email': 'nickchen1998@gmail.com', 'phone': '0930182193', 'age': '18'}, {'_id': ObjectId('60e2b9c987b0c76e8ef3f750'), 'name': 'nick', 'email': 'nickchen1998@gmail.com', 'phone': '0930182193', 'age': '18'}, {'_id': ObjectId('60e2b9cb87b0c76e8ef3f751'), 'name': 'nick', 'email': 'nickchen1998@gmail.com', 'phone': '0930182193', 'age': '18'}]\n"
     ]
    }
   ],
   "source": [
    "collection.insert_one({\"name\":\"nick\", \"email\":\"nickchen1998@gmail.com\", \"phone\":\"0930182193\", \"age\":\"18\"})\n",
    "\n",
    "result = collection.find({\"name\":\"nick\"})\n",
    "print([i for i in result])"
   ]
  },
  {
   "cell_type": "code",
   "execution_count": null,
   "metadata": {},
   "outputs": [],
   "source": []
  },
  {
   "cell_type": "code",
   "execution_count": null,
   "metadata": {},
   "outputs": [],
   "source": []
  }
 ],
 "metadata": {
  "kernelspec": {
   "display_name": "Python 3",
   "language": "python",
   "name": "python3"
  },
  "language_info": {
   "codemirror_mode": {
    "name": "ipython",
    "version": 3
   },
   "file_extension": ".py",
   "mimetype": "text/x-python",
   "name": "python",
   "nbconvert_exporter": "python",
   "pygments_lexer": "ipython3",
   "version": "3.7.6"
  }
 },
 "nbformat": 4,
 "nbformat_minor": 4
}
