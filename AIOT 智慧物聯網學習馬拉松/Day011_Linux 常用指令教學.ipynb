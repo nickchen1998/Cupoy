{
 "cells": [
  {
   "cell_type": "markdown",
   "id": "f1b7b1e8",
   "metadata": {},
   "source": [
    "## 作業一:使用 raspi-config 更改 root 的密碼，設定連線的無線基地台，開啟 ssh 伺服器，確定可以用遠端連線進入 pi。"
   ]
  },
  {
   "cell_type": "markdown",
   "id": "9c35052a",
   "metadata": {},
   "source": [
    "```\n",
    "pi@raspberrypi:~ $ sudo su\n",
    "root@raspberrypi:/home/pi# raspi-config\n",
    "New password:\n",
    "Retype new password:\n",
    "passwd: password updated successfully\n",
    "root@raspberrypi:/home/pi#\n",
    "```"
   ]
  },
  {
   "cell_type": "markdown",
   "id": "da5895e1",
   "metadata": {},
   "source": [
    "## 作業二:切換至 /opt 路徑，建立一個 /opt/aiot 子目錄，切換至 /opt/aiot 子目錄，用 wget 指令下載一個網路上的檔案，下載完成後用 ls –al 指令，確定下載的檔案存在。"
   ]
  },
  {
   "cell_type": "markdown",
   "id": "0ca3761c",
   "metadata": {},
   "source": [
    "```\n",
    "root@raspberrypi:/home/pi# cd /opt/\n",
    "root@raspberrypi:/opt# mkdir aiot\n",
    "root@raspberrypi:/opt# cd aiot/\n",
    "root@raspberrypi:/opt/aiot# wget https://img.ltn.com.tw/Upload/3c/page/2019/08/08/190808-37645-1.jpg\n",
    "--2021-07-06 15:30:34--  https://img.ltn.com.tw/Upload/3c/page/2019/08/08/190808-37645-1.jpg\n",
    "Resolving img.ltn.com.tw (img.ltn.com.tw)... 13.35.7.116, 13.35.7.24, 13.35.7.94, ...\n",
    "Connecting to img.ltn.com.tw (img.ltn.com.tw)|13.35.7.116|:443... connected.\n",
    "HTTP request sent, awaiting response... 200 OK\n",
    "Length: 17883 (17K) [image/jpeg]\n",
    "Saving to: '190808-37645-1.jpg'\n",
    "\n",
    "190808-37645-1.jpg                                 100%[================================================================================================================>]  17.46K  --.-KB/s    in 0.03s\n",
    "\n",
    "2021-07-06 15:30:35 (647 KB/s) - '190808-37645-1.jpg' saved [17883/17883]\n",
    "\n",
    "root@raspberrypi:/opt/aiot# ls -al\n",
    "total 28\n",
    "drwxr-xr-x 2 root root  4096 Jul  6 15:30 .\n",
    "drwxr-xr-x 6 root root  4096 Jul  6 15:25 ..\n",
    "-rw-r--r-- 1 root root 17883 Aug  8  2019 190808-37645-1.jpg\n",
    "root@raspberrypi:/opt/aiot#\n",
    "```"
   ]
  },
  {
   "cell_type": "markdown",
   "id": "3c80db60",
   "metadata": {},
   "source": [
    "## 作業三:切換至/根目錄(指令: cd /)，壓縮 /opt 子目錄進行備份，使用 tar zcvf opt.tar.gz /opt，以及 bzip2 opt.tar.gz 壓縮成 bz2 格式，最後將 opt.tar.gz 用 tar zxvf opt.tar.gz 指令練習解壓，或者將 opt.tar.gz 解壓至 /tmp 之下，確定 /opt 子目錄有壓縮備份成功 。"
   ]
  },
  {
   "cell_type": "markdown",
   "id": "8411d4fb",
   "metadata": {},
   "source": [
    "```\n",
    "root@raspberrypi:/# tar zcvf opt.tar.gz /opt/aiot/\n",
    "tar: Removing leading `/' from member names\n",
    "/opt/aiot/\n",
    "/opt/aiot/190808-37645-1.jpg\n",
    "root@raspberrypi:/# ls\n",
    "bin   dev  home  lost+found  mnt  opt.tar.gz  root  sbin  sys  usr\n",
    "boot  etc  lib   media       opt  proc        run   srv   tmp  var\n",
    "root@raspberrypi:/# tar zxvf opt.tar.gz /tmp\n",
    "tar: /tmp: Not found in archive\n",
    "tar: Exiting with failure status due to previous errors\n",
    "root@raspberrypi:/# tar zxvf opt.tar.gz -C /tmp\n",
    "opt/aiot/\n",
    "opt/aiot/190808-37645-1.jpg\n",
    "root@raspberrypi:/# cd tmp/\n",
    "root@raspberrypi:/tmp# ls\n",
    "opt\n",
    "pulse-PKdhtXMmr18n\n",
    "systemd-private-4a4d4471bcd24dd4bc0663d9a1a116ae-systemd-timesyncd.service-sQ4mHo\n",
    "root@raspberrypi:/tmp# cd opt/\n",
    "root@raspberrypi:/tmp/opt# ls\n",
    "aiot\n",
    "root@raspberrypi:/tmp/opt# cd aiot/\n",
    "root@raspberrypi:/tmp/opt/aiot# ls\n",
    "190808-37645-1.jpg\n",
    "root@raspberrypi:/tmp/opt/aiot#\n",
    "```"
   ]
  },
  {
   "cell_type": "code",
   "execution_count": null,
   "id": "c6a83191",
   "metadata": {},
   "outputs": [],
   "source": []
  }
 ],
 "metadata": {
  "kernelspec": {
   "display_name": "Python 3",
   "language": "python",
   "name": "python3"
  },
  "language_info": {
   "codemirror_mode": {
    "name": "ipython",
    "version": 3
   },
   "file_extension": ".py",
   "mimetype": "text/x-python",
   "name": "python",
   "nbconvert_exporter": "python",
   "pygments_lexer": "ipython3",
   "version": "3.7.6"
  }
 },
 "nbformat": 4,
 "nbformat_minor": 5
}
