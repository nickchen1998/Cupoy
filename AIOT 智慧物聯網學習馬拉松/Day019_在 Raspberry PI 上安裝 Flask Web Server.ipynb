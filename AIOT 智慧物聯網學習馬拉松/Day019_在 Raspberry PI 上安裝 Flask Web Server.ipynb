{
 "cells": [
  {
   "cell_type": "markdown",
   "id": "bd3adbd5",
   "metadata": {},
   "source": [
    "## 一、python flask 主程式"
   ]
  },
  {
   "cell_type": "markdown",
   "id": "b9ab584e",
   "metadata": {},
   "source": [
    "### 備註: 由於沒有可以用 GPIO 控制的風扇，因此改為利用 GPIO 控制 LED"
   ]
  },
  {
   "cell_type": "code",
   "execution_count": null,
   "id": "1ce922bb",
   "metadata": {},
   "outputs": [],
   "source": [
    "from flask import Flask, render_template, request\n",
    "import RPi.GPIO as GPIO\n",
    "\n",
    "app = Flask(__name__)\n",
    "\n",
    "@app.route(\"/\", methods=['GET'])\n",
    "def main_index(): \n",
    "  return render_template('index.html')\n",
    "\n",
    "@app.route(\"/LED_ON\", methods=['POST'])\n",
    "def LED_ON():\n",
    "    led_pin = 23\n",
    "    GPIO.setmode(GPIO.BCM)\n",
    "    GPIO.setup(led_pin, GPIO.OUT)\n",
    "    GPIO.output(led_pin, 1)\n",
    "    \n",
    "    return \"LED 開啟\"\n",
    "    \n",
    "\n",
    "@app.route(\"/LED_OFF\", methods=['POST'])\n",
    "def LED_OFF():\n",
    "    led_pin = 23\n",
    "    GPIO.setmode(GPIO.BCM)\n",
    "    GPIO.setup(led_pin, GPIO.OUT)\n",
    "    GPIO.output(led_pin, 0)\n",
    "    \n",
    "    return \"LED 關閉\"\n",
    "    \n",
    "if __name__ == \"__main__\":\n",
    "\tapp.run(host='0.0.0.0', port=8080, debug=True, threaded=True)"
   ]
  },
  {
   "cell_type": "markdown",
   "id": "0eca2ae7",
   "metadata": {},
   "source": [
    "## 二、index.html"
   ]
  },
  {
   "cell_type": "markdown",
   "id": "87b41195",
   "metadata": {},
   "source": [
    "```\n",
    "<!DOCTYPE html>\n",
    "<html lang=\"en\">\n",
    "<head>\n",
    "\t<meta charset=\"UTF-8\">\n",
    "\t<meta name=\"viewport\" content=\"width=device-width, initial-scale=1.0\">\n",
    "\t<title>Document</title>\n",
    "</head>\n",
    "<body>\n",
    "\t<form action = \"LED_ON\" method = \"POST\" enctype = \"multipart/form-data\">\n",
    "        <input type = \"submit\" value=\"燈亮\"/>\n",
    "    </form>\n",
    "\t<form action = \"LED_OFF\" method = \"POST\" enctype = \"multipart/form-data\"> \n",
    "        <input type = \"submit\" value=\"燈滅\"/>\n",
    "    </form>\n",
    "</body>\n",
    "</html>\n",
    "```"
   ]
  },
  {
   "attachments": {
    "%E6%93%B7%E5%8F%96-2.PNG": {
     "image/png": "[encoded data removed]"
    }
   },
   "cell_type": "markdown",
   "id": "13443e84",
   "metadata": {},
   "source": [
    "![%E6%93%B7%E5%8F%96-2.PNG](attachment:%E6%93%B7%E5%8F%96-2.PNG)"
   ]
  },
  {
   "cell_type": "markdown",
   "id": "2ac20dd6",
   "metadata": {},
   "source": [
    "## 三、在樹莓派上運行 flask"
   ]
  },
  {
   "cell_type": "markdown",
   "id": "542584fd",
   "metadata": {},
   "source": [
    "```\n",
    "root@raspberrypi:/home/pi/flask# python3 flask_test.py\n",
    " * Serving Flask app \"flask_test\" (lazy loading)\n",
    " * Environment: production\n",
    "   WARNING: Do not use the development server in a production environment.\n",
    "   Use a production WSGI server instead.\n",
    " * Debug mode: on\n",
    " * Running on http://0.0.0.0:8080/ (Press CTRL+C to quit)\n",
    " * Restarting with stat\n",
    " * Debugger is active!\n",
    " * Debugger PIN: 312-597-025\n",
    "flask_test.py:14: RuntimeWarning: This channel is already in use, continuing anyway.  Use GPIO.setwarnings(False) to disable warnings.\n",
    "  GPIO.setup(led_pin, GPIO.OUT)\n",
    "192.168.0.13 - - [15/Jul/2021 16:40:36] \"POST /LED_ON HTTP/1.1\" 200 -\n",
    "192.168.0.13 - - [15/Jul/2021 16:40:38] \"POST /LED_OFF HTTP/1.1\" 200 -\n",
    "192.168.0.13 - - [15/Jul/2021 16:40:40] \"POST /LED_ON HTTP/1.1\" 200 -\n",
    "192.168.0.13 - - [15/Jul/2021 16:40:41] \"POST /LED_OFF HTTP/1.1\" 200 -\n",
    "192.168.0.13 - - [15/Jul/2021 16:40:49] \"POST /LED_ON HTTP/1.1\" 200 -\n",
    "192.168.0.13 - - [15/Jul/2021 16:40:51] \"POST /LED_OFF HTTP/1.1\" 200 -\n",
    "192.168.0.13 - - [15/Jul/2021 16:41:01] \"POST /LED_OFF HTTP/1.1\" 200 -\n",
    "192.168.0.13 - - [15/Jul/2021 16:41:03] \"POST /LED_ON HTTP/1.1\" 200 -\n",
    "192.168.0.13 - - [15/Jul/2021 16:41:04] \"POST /LED_OFF HTTP/1.1\" 200 -\n",
    "192.168.0.13 - - [15/Jul/2021 16:41:05] \"POST /LED_ON HTTP/1.1\" 200 -\n",
    "192.168.0.13 - - [15/Jul/2021 16:41:06] \"POST /LED_OFF HTTP/1.1\" 200 -\n",
    "192.168.0.13 - - [15/Jul/2021 16:41:07] \"POST /LED_ON HTTP/1.1\" 200 -\n",
    "192.168.0.13 - - [15/Jul/2021 16:41:08] \"POST /LED_OFF HTTP/1.1\" 200 -\n",
    "192.168.0.13 - - [15/Jul/2021 16:41:09] \"POST /LED_ON HTTP/1.1\" 200 -\n",
    "192.168.0.13 - - [15/Jul/2021 16:41:11] \"POST /LED_OFF HTTP/1.1\" 200 -\n",
    "root@raspberrypi:/home/pi/flask#\n",
    "```"
   ]
  },
  {
   "cell_type": "code",
   "execution_count": null,
   "id": "b0ac48f8",
   "metadata": {},
   "outputs": [],
   "source": []
  }
 ],
 "metadata": {
  "kernelspec": {
   "display_name": "Python 3",
   "language": "python",
   "name": "python3"
  },
  "language_info": {
   "codemirror_mode": {
    "name": "ipython",
    "version": 3
   },
   "file_extension": ".py",
   "mimetype": "text/x-python",
   "name": "python",
   "nbconvert_exporter": "python",
   "pygments_lexer": "ipython3",
   "version": "3.7.6"
  }
 },
 "nbformat": 4,
 "nbformat_minor": 5
}
