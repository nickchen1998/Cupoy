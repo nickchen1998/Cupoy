{
 "cells": [
  {
   "cell_type": "markdown",
   "metadata": {
    "colab_type": "text",
    "id": "P6xk2_jLsvFF"
   },
   "source": [
    "# [作業目標]\n",
    "\n",
    "1. 請問下列運算的結果為何？\n",
    "\n",
    "```\n",
    "1 + 3*2 # \n",
    "1 + 3**2 #\n",
    "(1 + 3)*2 # \n",
    "1 + 3 / 2 *2 # \n",
    "1 + 3 // 2 *2 # \n",
    "1 + 3 / 2 **2 # \n",
    "1 + 3 // 2 **2 #  \n",
    "```\n",
    "\n",
    "\n",
    "2. 下列是一個計算開根號的程式，請將缺空的地方補齊，讓程式運作正確。\n",
    "\n",
    "```\n",
    "num = 16\n",
    "'''\n",
    "Your Code\n",
    "'''\n",
    "print('The square root of %0.3f is %0.3f' % (num ,num_sqrt))\n",
    "```\n"
   ]
  },
  {
   "cell_type": "markdown",
   "metadata": {
    "colab_type": "text",
    "id": "uXGll28asvFS"
   },
   "source": [
    "# 作業 "
   ]
  },
  {
   "cell_type": "markdown",
   "metadata": {},
   "source": [
    "### 1. 請問下列運算的結果為何？\n",
    "\n",
    "```\n",
    "1 + 3*2 # \n",
    "1 + 3**2 #\n",
    "(1 + 3)*2 # \n",
    "1 + 3 / 2 *2 # \n",
    "1 + 3 // 2 *2 # \n",
    "1 + 3 / 2 **2 # \n",
    "1 + 3 // 2 **2 #  \n",
    "```\n",
    "\n",
    "\n"
   ]
  },
  {
   "cell_type": "code",
   "execution_count": 2,
   "metadata": {
    "colab": {},
    "colab_type": "code",
    "id": "5QrYoyNWsvFS"
   },
   "outputs": [
    {
     "name": "stdout",
     "output_type": "stream",
     "text": [
      "7\n",
      "10\n",
      "8\n",
      "4.0\n",
      "3\n",
      "1.75\n",
      "1\n"
     ]
    }
   ],
   "source": [
    "'''\n",
    "Your Code\n",
    "'''\n",
    "print(1 + 3*2)\n",
    "print(1 + 3**2)\n",
    "print((1 + 3)*2)\n",
    "print(1 + 3 / 2 *2)\n",
    "print(1 + 3 // 2 *2)\n",
    "print(1 + 3 / 2 **2)\n",
    "print(1 + 3 // 2 **2)"
   ]
  },
  {
   "cell_type": "markdown",
   "metadata": {},
   "source": [
    "### 2. 下列是一個計算開根號的程式，請將缺空的地方補齊，讓程式運作正確。\n"
   ]
  },
  {
   "cell_type": "code",
   "execution_count": 4,
   "metadata": {
    "colab": {},
    "colab_type": "code",
    "id": "e1gVI0tvsvFY",
    "scrolled": false
   },
   "outputs": [
    {
     "name": "stdout",
     "output_type": "stream",
     "text": [
      "The square root of 16.000 is 4.000\n"
     ]
    }
   ],
   "source": [
    "num = 16\n",
    "\n",
    "'''\n",
    "Your Code\n",
    "'''\n",
    "num_sqrt = 16 ** 0.5\n",
    "\n",
    "print('The square root of %0.3f is %0.3f' % (num, num_sqrt))\n"
   ]
  },
  {
   "cell_type": "markdown",
   "metadata": {},
   "source": [
    "### 3. 饅頭之家住了大綠、小綠、阿藍、阿紫等四個人，其中大綠是小綠的姐姐，而且比她大三歲，阿藍則是比小綠年齡的兩倍少五歲，而阿紫年齡的十位數和阿藍相同、個位數和大綠相同。已知小綠的年齡，你能推算出阿紫是幾歲嗎？\n",
    "\n",
    "- 輸入一個正整數，代表小綠的年齡\n",
    "- 利用小綠推算並且輸出阿紫是幾歲"
   ]
  },
  {
   "cell_type": "code",
   "execution_count": 6,
   "metadata": {},
   "outputs": [
    {
     "name": "stdout",
     "output_type": "stream",
     "text": [
      "請輸入小綠的年齡: 32\n",
      "小綠為 32 歲\n",
      "大綠為 35 歲\n",
      "阿藍為 59 歲\n",
      "阿紫為 55 歲\n"
     ]
    }
   ],
   "source": [
    "little_green = int(input(\"請輸入小綠的年齡: \"))\n",
    "big_green = little_green + 3\n",
    "blue = little_green * 2 - 5\n",
    "purple = blue // 10 * 10 + big_green % 10\n",
    "\n",
    "\n",
    "print(\"小綠為 {} 歲\\n大綠為 {} 歲\\n阿藍為 {} 歲\\n阿紫為 {} 歲\".format(little_green, big_green, blue, purple))"
   ]
  },
  {
   "cell_type": "code",
   "execution_count": null,
   "metadata": {},
   "outputs": [],
   "source": []
  }
 ],
 "metadata": {
  "colab": {
   "name": "Day_023_HW.ipynb",
   "provenance": []
  },
  "kernelspec": {
   "display_name": "Python 3",
   "language": "python",
   "name": "python3"
  },
  "language_info": {
   "codemirror_mode": {
    "name": "ipython",
    "version": 3
   },
   "file_extension": ".py",
   "mimetype": "text/x-python",
   "name": "python",
   "nbconvert_exporter": "python",
   "pygments_lexer": "ipython3",
   "version": "3.7.6"
  }
 },
 "nbformat": 4,
 "nbformat_minor": 1
}
