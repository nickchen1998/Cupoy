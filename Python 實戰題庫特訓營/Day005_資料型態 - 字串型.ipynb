{
 "cells": [
  {
   "cell_type": "markdown",
   "metadata": {
    "colab_type": "text",
    "id": "P6xk2_jLsvFF"
   },
   "source": [
    "# [作業目標]\n",
    "\n",
    "1. Write a Python program to get a string made of the first 2 and the last 2 chars from a given a string. If the string length is less than 2, return instead of the empty string.\n",
    "\n",
    "    * Sample Input: w3resource\n",
    "    * Sample Output: w3ce\n",
    "\n",
    "\n",
    "2. 一個網址的結構大概如圖所示，試著用 Python 分別把每個值取出來。\n",
    "\n"
   ]
  },
  {
   "cell_type": "markdown",
   "metadata": {
    "colab_type": "text",
    "id": "uXGll28asvFS"
   },
   "source": [
    "# 作業 "
   ]
  },
  {
   "cell_type": "markdown",
   "metadata": {},
   "source": [
    "### 1. Write a Python program to get a string made of the first 2 and the last 2 chars from a given a string. If the string length is less than 2, return instead of the empty string.\n",
    "\n",
    "* Sample Input: w3resource\n",
    "* Sample Output: w3ce\n"
   ]
  },
  {
   "cell_type": "code",
   "execution_count": 2,
   "metadata": {
    "colab": {},
    "colab_type": "code",
    "id": "5QrYoyNWsvFS"
   },
   "outputs": [
    {
     "name": "stdout",
     "output_type": "stream",
     "text": [
      "Please input test string: w3resource\n",
      "w3ce\n"
     ]
    }
   ],
   "source": [
    "test_str = input(\"Please input test string: \")\n",
    "\n",
    "print(test_str[:2] + test_str[-2:])"
   ]
  },
  {
   "cell_type": "markdown",
   "metadata": {},
   "source": [
    "### 2. 一個網址的結構大概如圖所示，試著用 Python 分別把每個值取出來。\n"
   ]
  },
  {
   "cell_type": "code",
   "execution_count": 7,
   "metadata": {
    "colab": {},
    "colab_type": "code",
    "id": "e1gVI0tvsvFY",
    "scrolled": false
   },
   "outputs": [
    {
     "name": "stdout",
     "output_type": "stream",
     "text": [
      "protocol : https\n",
      "domain : www.trivago.com.tw\n",
      "port : 3000\n",
      "path : search\n",
      "fragment : taipei\n"
     ]
    }
   ],
   "source": [
    "url = 'https://www.trivago.com.tw:3000/search#taipei'\n",
    "\n",
    "'''\n",
    "Your Input\n",
    "'''\n",
    "url = url.split(\"/\")\n",
    "\n",
    "protocol = url[0].replace(\":\", \"\")\n",
    "domain = url[2].split(\":\")[0]\n",
    "port = url[2].split(\":\")[1]\n",
    "path = url[3].split(\"#\")[0]\n",
    "fragment = url[3].split(\"#\")[1]\n",
    "\n",
    "print('protocol : %s' % (protocol)) # https\n",
    "print('domain : %s' % (domain)) # www.trivago.com.tw:\n",
    "print('port : %s' % (port)) # 3000\n",
    "print('path : %s' % (path)) # search\n",
    "print('fragment : %s' % (fragment)) # taipei\n"
   ]
  },
  {
   "cell_type": "code",
   "execution_count": null,
   "metadata": {},
   "outputs": [],
   "source": []
  }
 ],
 "metadata": {
  "colab": {
   "name": "Day_023_HW.ipynb",
   "provenance": []
  },
  "kernelspec": {
   "display_name": "Python 3",
   "language": "python",
   "name": "python3"
  },
  "language_info": {
   "codemirror_mode": {
    "name": "ipython",
    "version": 3
   },
   "file_extension": ".py",
   "mimetype": "text/x-python",
   "name": "python",
   "nbconvert_exporter": "python",
   "pygments_lexer": "ipython3",
   "version": "3.7.6"
  }
 },
 "nbformat": 4,
 "nbformat_minor": 1
}
