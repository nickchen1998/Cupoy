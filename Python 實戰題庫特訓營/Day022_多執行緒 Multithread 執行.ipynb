{
 "cells": [
  {
   "cell_type": "markdown",
   "metadata": {
    "colab_type": "text",
    "id": "P6xk2_jLsvFF"
   },
   "source": [
    "# [作業目標]\n",
    "\n",
    "\n",
    "1. 請將給定的爬蟲範例改用多線程改寫，比較前後時間的差異。\n",
    "\n",
    "```\n",
    "import requests\n",
    "import time\n",
    "\n",
    "urls = ['http://python.org', 'http://python.org', 'http://python.org',\n",
    "        'http://python.org', 'http://python.org']\n",
    "\n",
    "for url in urls:\n",
    "    d = requests.get(url)\n",
    "    print(d)\n",
    "```\n",
    "\n"
   ]
  },
  {
   "cell_type": "markdown",
   "metadata": {
    "colab_type": "text",
    "id": "uXGll28asvFS"
   },
   "source": [
    "# 作業 "
   ]
  },
  {
   "cell_type": "markdown",
   "metadata": {},
   "source": [
    "### 1. 請將給定的爬蟲範例改用多線程改寫，比較前後時間的差異。\n",
    "\n",
    "```\n",
    "import requests\n",
    "import time\n",
    "\n",
    "urls = ['http://python.org', 'http://python.org', 'http://python.org',\n",
    "        'http://python.org', 'http://python.org']\n",
    "\n",
    "for url in urls:\n",
    "    d = requests.get(url)\n",
    "    print(d)\n",
    "```"
   ]
  },
  {
   "cell_type": "code",
   "execution_count": 2,
   "metadata": {},
   "outputs": [],
   "source": [
    "import time\n",
    "import requests\n",
    "import threading"
   ]
  },
  {
   "cell_type": "code",
   "execution_count": 4,
   "metadata": {
    "scrolled": true
   },
   "outputs": [
    {
     "name": "stdout",
     "output_type": "stream",
     "text": [
      "----execute without threading----\n",
      "<Response [200]>\n",
      "<Response [200]>\n",
      "<Response [200]>\n",
      "<Response [200]>\n",
      "<Response [200]>\n",
      "----execute time: 8.032862186431885----\n"
     ]
    }
   ],
   "source": [
    "print(\"----execute without threading----\")\n",
    "start_time = time.time()\n",
    "\n",
    "urls = ['http://python.org', 'http://python.org', 'http://python.org',\n",
    "        'http://python.org', 'http://python.org']\n",
    "\n",
    "for url in urls:\n",
    "    d = requests.get(url)\n",
    "    print(d)\n",
    "\n",
    "print(\"----execute time: {}----\".format(time.time()-start_time))"
   ]
  },
  {
   "cell_type": "code",
   "execution_count": 5,
   "metadata": {},
   "outputs": [
    {
     "name": "stdout",
     "output_type": "stream",
     "text": [
      "----execute with threading----\n",
      "<Response [200]>\n",
      "<Response [200]>\n",
      "<Response [200]>\n",
      "<Response [200]>\n",
      "<Response [200]>\n",
      "----execute time: 1.4555225372314453----\n"
     ]
    }
   ],
   "source": [
    "print(\"----execute with threading----\")\n",
    "\n",
    "def job(url):\n",
    "    d = requests.get(url)\n",
    "    print(d)\n",
    "\n",
    "\n",
    "start_time = time.time()\n",
    "\n",
    "threads = []\n",
    "urls = ['http://python.org', 'http://python.org', 'http://python.org',\n",
    "        'http://python.org', 'http://python.org']\n",
    "\n",
    "for i in range(len(urls)):\n",
    "    threads.append(threading.Thread(target=job, args=(urls[i], )))\n",
    "    threads[i].start()\n",
    "    \n",
    "for i in range(len(urls)):\n",
    "    threads[i].join()\n",
    "    \n",
    "print(\"----execute time: {}----\".format(time.time()-start_time))"
   ]
  },
  {
   "cell_type": "code",
   "execution_count": null,
   "metadata": {},
   "outputs": [],
   "source": []
  }
 ],
 "metadata": {
  "colab": {
   "name": "Day_023_HW.ipynb",
   "provenance": []
  },
  "kernelspec": {
   "display_name": "Python 3",
   "language": "python",
   "name": "python3"
  },
  "language_info": {
   "codemirror_mode": {
    "name": "ipython",
    "version": 3
   },
   "file_extension": ".py",
   "mimetype": "text/x-python",
   "name": "python",
   "nbconvert_exporter": "python",
   "pygments_lexer": "ipython3",
   "version": "3.7.6"
  }
 },
 "nbformat": 4,
 "nbformat_minor": 1
}
