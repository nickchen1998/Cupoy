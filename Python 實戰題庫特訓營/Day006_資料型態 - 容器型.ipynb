{
 "cells": [
  {
   "cell_type": "markdown",
   "metadata": {
    "colab_type": "text",
    "id": "P6xk2_jLsvFF"
   },
   "source": [
    "# [作業目標]\n",
    "\n",
    "1. 有一個列表，其中包括 10 個元素，例如這個列表是 [1, 2, 3, 4, 5, 6, 7, 8, 9, 0]，要求將最左邊的 1 移到最右邊，結果會變成 [2, 3, 4, 5, 6, 7, 8, 9, 0, 1].\n",
    "\n",
    "\n",
    "2. Write a Python program to concatenate following dictionaries to create a new one.\n",
    "\n"
   ]
  },
  {
   "cell_type": "markdown",
   "metadata": {
    "colab_type": "text",
    "id": "uXGll28asvFS"
   },
   "source": [
    "# 作業 "
   ]
  },
  {
   "cell_type": "markdown",
   "metadata": {},
   "source": [
    "### 1. 有一個列表，其中包括 10 個元素，例如這個列表是 [1, 2, 3, 4, 5, 6, 7, 8, 9, 0]，要求將最左邊的 1 移到最右邊，結果會變成 [2, 3, 4, 5, 6, 7, 8, 9, 0, 1].\n",
    "\n",
    "\n"
   ]
  },
  {
   "cell_type": "code",
   "execution_count": 1,
   "metadata": {
    "colab": {},
    "colab_type": "code",
    "id": "5QrYoyNWsvFS"
   },
   "outputs": [
    {
     "name": "stdout",
     "output_type": "stream",
     "text": [
      "交換前: [1, 2, 3, 4, 5, 6, 7, 8, 9, 0]\n",
      "交換後: [0, 2, 3, 4, 5, 6, 7, 8, 9, 1]\n"
     ]
    }
   ],
   "source": [
    "'''\n",
    "Your Code\n",
    "'''\n",
    "test_list = [1, 2, 3, 4, 5, 6, 7, 8, 9, 0]\n",
    "print(\"交換前: {}\".format(test_list))\n",
    "\n",
    "test_list[0], test_list[-1] = test_list[-1], test_list[0]\n",
    "\n",
    "print(\"交換後: {}\".format(test_list))"
   ]
  },
  {
   "cell_type": "markdown",
   "metadata": {},
   "source": [
    "### 2. Write a Python program to concatenate following dictionaries to create a new one.\n"
   ]
  },
  {
   "cell_type": "code",
   "execution_count": 5,
   "metadata": {
    "colab": {},
    "colab_type": "code",
    "id": "e1gVI0tvsvFY",
    "scrolled": false
   },
   "outputs": [
    {
     "name": "stdout",
     "output_type": "stream",
     "text": [
      "{1: 10, 2: 20, 3: 30, 4: 40, 5: 50, 6: 60}\n"
     ]
    }
   ],
   "source": [
    "dic1 = {1:10, 2:20}\n",
    "dic2 = {3:30, 4:40}\n",
    "dic3 = {5:50, 6:60}\n",
    "\n",
    "'''\n",
    "Your Code\n",
    "'''\n",
    "dic1.update(dic2)\n",
    "dic1.update(dic3)\n",
    "\n",
    "print(dic1)\n",
    "\n",
    "# Output: {1: 10, 2: 20, 3: 30, 4: 40, 5: 50, 6: 60}"
   ]
  },
  {
   "cell_type": "code",
   "execution_count": null,
   "metadata": {},
   "outputs": [],
   "source": []
  }
 ],
 "metadata": {
  "colab": {
   "name": "Day_023_HW.ipynb",
   "provenance": []
  },
  "kernelspec": {
   "display_name": "Python 3",
   "language": "python",
   "name": "python3"
  },
  "language_info": {
   "codemirror_mode": {
    "name": "ipython",
    "version": 3
   },
   "file_extension": ".py",
   "mimetype": "text/x-python",
   "name": "python",
   "nbconvert_exporter": "python",
   "pygments_lexer": "ipython3",
   "version": "3.7.6"
  }
 },
 "nbformat": 4,
 "nbformat_minor": 1
}
