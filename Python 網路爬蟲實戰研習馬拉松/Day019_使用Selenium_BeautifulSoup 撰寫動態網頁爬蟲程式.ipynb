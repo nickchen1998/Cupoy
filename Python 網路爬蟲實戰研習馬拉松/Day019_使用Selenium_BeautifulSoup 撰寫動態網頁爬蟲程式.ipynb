{
 "cells": [
  {
   "cell_type": "markdown",
   "metadata": {},
   "source": [
    "# 動態網頁爬蟲 - 使用 Selenium\n",
    "\n",
    "* 了解 Selenium 用於動態網頁爬蟲的原理\n",
    "* 能夠使用 Selenium 撰寫動態網頁爬蟲"
   ]
  },
  {
   "cell_type": "markdown",
   "metadata": {},
   "source": [
    "## 作業目標\n",
    "\n",
    "* 1. 請試著利用 Selenium 開啟 Google 網頁，不要關掉。\n",
    "* 2. 請利用剛剛開啟的瀏覽器，切換到 這個網址 網頁，然後關掉。（URL: https://www.cupoy.com/clubnews/ai_tw/0000016E62FB84E4000000026375706F795F72656C656173654B5741535354434C5542/0000016F69B5DB8C000000266375706F795F72656C656173654B5741535354434C55424E455753 ）\n"
   ]
  },
  {
   "cell_type": "code",
   "execution_count": 1,
   "metadata": {},
   "outputs": [],
   "source": [
    "from selenium import webdriver\n",
    "from selenium.webdriver.support.ui import Select\n",
    "from bs4 import BeautifulSoup"
   ]
  },
  {
   "cell_type": "code",
   "execution_count": 2,
   "metadata": {},
   "outputs": [],
   "source": [
    "# 1. 請試著利用 Selenium 開啟 Google 網頁，不要關掉。\n",
    "\n",
    "'''\n",
    "Your Code\n",
    "'''\n",
    "browser = webdriver.Chrome(executable_path='chromedriver')"
   ]
  },
  {
   "cell_type": "code",
   "execution_count": 5,
   "metadata": {},
   "outputs": [
    {
     "name": "stdout",
     "output_type": "stream",
     "text": [
      "<html><head><meta charset=\"utf-8\"><meta name=\"viewport\" content=\"width=device-width,initial-scale=1,maximum-scale=1,user-scalable=0,shrink-to-fit=no\"><meta http-equiv=\"X-UA-Compatible\" content=\"IE=edge\"><meta http-equiv=\"Content-Language\" content=\"zh-tw\"><meta property=\"og:title\" content=\"AI 人工智慧學習社群 - Cupoy\"><meta property=\"og:description\" content=\"關注人工智慧發展，獨家打造堅實的AI業界專家群，持續優化AI領域的學習體驗，讓你在AI人工智能領域快速成長。\"><meta property=\"og:image\" content=\"https://www.cupoy.com/images/landing1200-630.jpg\"><meta property=\"og:url\" content=\"https://www.cupoy.com/\"><meta property=\"og:type\" content=\"website\"><meta name=\"description\" content=\"關注人工智慧發展，獨家打造堅實的AI業界專家群，持續優化AI領域的學習體驗，讓你在AI人工智能領域快速成長。\"><meta property=\"keywords\" content=\"\"><meta name=\"apple-itunes-app\" content=\"app-id=597799429\"><meta property=\"cp:newsitemid\" content=\"\"><meta property=\"cp:cumatrixid\" content=\"\"><meta property=\"cp:cumatrixitemid\" content=\"\"><meta name=\"theme-color\" content=\"#E62427\"><link rel=\"manifest\" href=\"/manifest.json\"><link rel=\"shortcut icon\" href=\"/favicon.ico\"><link rel=\"preload stylesheet\" href=\"/css/icomoon/style.css\" media=\"all\" as=\"style\" onload=\"this.media=&quot;all&quot;\"><link rel=\"preload stylesheet\" href=\"/css/material-design-iconic-font/css/material-design-iconic-font.css\" media=\"all\" as=\"style\" onload=\"this.media=&quot;all&quot;\"><link rel=\"preload stylesheet\" href=\"https://fonts.googleapis.com/css?family=Open+Sans:400,600,300,300italic,400italic,600italic,700,700italic,800,800italic\" as=\"style\" onload=\"this.media=&quot;all&quot;\" media=\"all\"><link rel=\"stylesheet preload\" as=\"style\" href=\"https://fonts.googleapis.com/css?family=Material+Icons|Material+Icons+Outlined\"><base href=\"/\"><title>AI 人工智慧學習社群 - Cupoy</title><style>body,html{margin:0;padding:0}.cupoy{position:relative;width:100vw;height:100vh;background-color:#f0efee;display:-webkit-box;display:-webkit-flex;display:-ms-flexbox;display:flex;-webkit-box-align:center;-moz-box-align:center;box-align:center;-webkit-align-items:center;-moz-align-items:center;-ms-align-items:center;-o-align-items:center;align-items:center;-ms-flex-align:center;-webkit-box-pack:center;-moz-box-pack:center;box-pack:center;-webkit-justify-content:center;-moz-justify-content:center;-ms-justify-content:center;-o-justify-content:center;justify-content:center;-ms-flex-pack:center;-webkit-flex-direction:column;-ms-flex-direction:column;flex-direction:column;user-select:none}.cupoy .text{font-size:32px;color:#c6bdbc;margin:20px auto 0}#ieNotSupport{position:fixed;top:0;left:0;right:0;bottom:0;margin:auto}#ieNotSupport img{max-width:100%}#ieNotSupport .content{padding:100px 20px 20px 20px;text-align:center}#ieNotSupport .desc{max-width:320px;margin:10px auto 10px;font-size:16px;line-height:26px}#ieNotSupport .linkBar{margin-top:20px;font-size:16px;line-height:26px}#ieNotSupport .explorer{display:inline-block;width:24px;height:24px;margin-right:10px;padding:0;border:none;text-align:center;cursor:pointer;vertical-align:bottom;color:#fff}#ienotsupport\n"
     ]
    }
   ],
   "source": [
    "# 2. 請利用剛剛開啟的瀏覽器，切換到 這個網址 網頁，取得網頁內容。\n",
    "# URL: https://www.cupoy.com/clubnews/ai_tw/0000016E62FB84E4000000026375706F795F72656C656173654B5741535354434C5542/0000016F69B5DB8C000000266375706F795F72656C656173654B5741535354434C55424E455753\n",
    "\n",
    "'''\n",
    "Your Code\n",
    "'''\n",
    "url = 'https://www.cupoy.com/clubnews/ai_tw/0000016E62FB84E4000000026375706F795F72656C656173654B5741535354434C5542/0000016F69B5DB8C000000266375706F795F72656C656173654B5741535354434C55424E455753'\n",
    "browser.get(url)\n",
    "result = browser.page_source\n",
    "print(result[:3000])"
   ]
  },
  {
   "cell_type": "code",
   "execution_count": 6,
   "metadata": {},
   "outputs": [],
   "source": [
    "# 3. 將瀏覽器關閉\n",
    "\n",
    "'''\n",
    "Your Code\n",
    "'''\n",
    "browser.close()"
   ]
  },
  {
   "cell_type": "code",
   "execution_count": 7,
   "metadata": {},
   "outputs": [
    {
     "ename": "SyntaxError",
     "evalue": "invalid syntax (<ipython-input-7-20f7247c8d89>, line 3)",
     "output_type": "error",
     "traceback": [
      "\u001b[1;36m  File \u001b[1;32m\"<ipython-input-7-20f7247c8d89>\"\u001b[1;36m, line \u001b[1;32m3\u001b[0m\n\u001b[1;33m    * 了解 Selenium 用於動態網頁爬蟲的原理\u001b[0m\n\u001b[1;37m                ^\u001b[0m\n\u001b[1;31mSyntaxError\u001b[0m\u001b[1;31m:\u001b[0m invalid syntax\n"
     ]
    }
   ],
   "source": [
    "# 動態網頁爬蟲 - 使用 Selenium\n",
    "\n",
    "* 了解 Selenium 用於動態網頁爬蟲的原理\n",
    "* 能夠使用 Selenium 撰寫動態網頁爬蟲\n",
    "\n",
    "## 作業目標\n",
    "\n",
    "* 1. 請試著利用 Selenium 開啟 Google 網頁，不要關掉。\n",
    "* 2. 請利用剛剛開啟的瀏覽器，切換到 這個網址 網頁，然後關掉。（URL: https://www.cupoy.com/clubnews/ai_tw/0000016E62FB84E4000000026375706F795F72656C656173654B5741535354434C5542/0000016F69B5DB8C000000266375706F795F72656C656173654B5741535354434C55424E455753 ）\n",
    "\n",
    "\n",
    "from selenium import webdriver\n",
    "from selenium.webdriver.support.ui import Select\n",
    "from bs4 import BeautifulSoup\n",
    "\n",
    "# 1. 請試著利用 Selenium 開啟 Google 網頁，不要關掉。\n",
    "browser = webdriver.Chrome(executable_path='chromedriver')\n",
    "browser.get(\"https://www.google.com/\")\n",
    "\n",
    "# 2. 請利用剛剛開啟的瀏覽器，切換到 這個網址 網頁。\n",
    "# URL: https://www.cupoy.com/clubnews/ai_tw/0000016E62FB84E4000000026375706F795F72656C656173654B5741535354434C5542/0000016F69B5DB8C000000266375706F795F72656C656173654B5741535354434C55424E455753\n",
    "\n",
    "browser.get(\"https://www.cupoy.com/clubnews/ai_tw/0000016E62FB84E4000000026375706F795F72656C656173654B5741535354434C5542/0000016F69B5DB8C000000266375706F795F72656C656173654B5741535354434C55424E455753\")\n",
    "\n",
    "\n",
    "# 3. 將瀏覽器關閉\n",
    "\n",
    "browser.close()"
   ]
  },
  {
   "cell_type": "code",
   "execution_count": null,
   "metadata": {},
   "outputs": [],
   "source": []
  }
 ],
 "metadata": {
  "kernelspec": {
   "display_name": "Python 3",
   "language": "python",
   "name": "python3"
  },
  "language_info": {
   "codemirror_mode": {
    "name": "ipython",
    "version": 3
   },
   "file_extension": ".py",
   "mimetype": "text/x-python",
   "name": "python",
   "nbconvert_exporter": "python",
   "pygments_lexer": "ipython3",
   "version": "3.7.6"
  }
 },
 "nbformat": 4,
 "nbformat_minor": 2
}
