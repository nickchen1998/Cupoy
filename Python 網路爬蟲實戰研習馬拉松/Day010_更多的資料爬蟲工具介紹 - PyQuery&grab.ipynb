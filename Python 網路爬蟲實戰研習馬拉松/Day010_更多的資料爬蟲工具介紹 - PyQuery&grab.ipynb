{
 "cells": [
  {
   "cell_type": "markdown",
   "metadata": {},
   "source": [
    "# 其他工具：Grab、PyQuery\n",
    "\n",
    "\n",
    "* 利用 Grab 套件的存取 HTML 資源\n",
    "* 利用 PyQuery 套件的解析 HTML 格式\n"
   ]
  },
  {
   "cell_type": "markdown",
   "metadata": {},
   "source": [
    "## 作業目標\n",
    "\n",
    "將之前用 requests + beatifulsoup 實作的方式，改寫成 grab + pyquery，並且比較有哪些地方不同。\n",
    "\n",
    "\n",
    "\n"
   ]
  },
  {
   "cell_type": "markdown",
   "metadata": {},
   "source": [
    "## requests + BeautifulSoup\n"
   ]
  },
  {
   "cell_type": "code",
   "execution_count": 11,
   "metadata": {},
   "outputs": [
    {
     "name": "stdout",
     "output_type": "stream",
     "text": [
      "<div class=\"tgn9uw-4 jtaqbD\"><span>早上醒來一個熟悉又陌生的名字傳了訊息給我，原來是好久沒聯絡的前男友，一直覺得自己都放下了，結果好像沒有欸，滿滿的回憶又壓在身上，半年了我怎麼還是放不下你，現在你跟女友過得很幸福，你他媽的爛人怎麼還有女</span></div>\n",
      "\n",
      "早上醒來一個熟悉又陌生的名字傳了訊息給我，原來是好久沒聯絡的前男友，一直覺得自己都放下了，結果好像沒有欸，滿滿的回憶又壓在身上，半年了我怎麼還是放不下你，現在你跟女友過得很幸福，你他媽的爛人怎麼還有女\n"
     ]
    }
   ],
   "source": [
    "'''\n",
    "Your Code\n",
    "'''\n",
    "import requests\n",
    "from bs4 import BeautifulSoup\n",
    "\n",
    "url = 'https://www.dcard.tw/f'\n",
    "r = requests.get(url)\n",
    "r.encoding = 'utf-8'\n",
    "\n",
    "soup = BeautifulSoup(r.text, 'html5lib')\n",
    "print(soup.find(class_='tgn9uw-4'))\n",
    "print()\n",
    "\n",
    "print(soup.find(class_='tgn9uw-4').find('span').text)"
   ]
  },
  {
   "cell_type": "markdown",
   "metadata": {},
   "source": [
    "## Grab + PyQuery"
   ]
  },
  {
   "cell_type": "code",
   "execution_count": 4,
   "metadata": {
    "scrolled": false
   },
   "outputs": [],
   "source": [
    "'''\n",
    "Your Code\n",
    "'''\n",
    "from grab import Grab\n",
    "from pyquery import PyQuery as pq\n",
    "\n",
    "url = 'https://www.dcard.tw/f'\n",
    "g = Grab()\n",
    "resp = g.go(url)"
   ]
  },
  {
   "cell_type": "code",
   "execution_count": 9,
   "metadata": {},
   "outputs": [
    {
     "name": "stdout",
     "output_type": "stream",
     "text": [
      "早上醒來一個熟悉又陌生的名字傳了訊息給我，原來是好久沒聯絡的前男友，一直覺得自己都放下了，結果好像沒有欸，滿滿的回憶又壓在身上，半年了我怎麼還是放不下你，現在你跟女友過得很幸福，你他媽的爛人怎麼還有女\n"
     ]
    }
   ],
   "source": [
    "doc = pq(resp.body, parser=\"html\")\n",
    "target = doc('div').filter('.tgn9uw-4').eq(0).text()\n",
    "print(target)"
   ]
  },
  {
   "cell_type": "code",
   "execution_count": null,
   "metadata": {},
   "outputs": [],
   "source": []
  },
  {
   "cell_type": "code",
   "execution_count": null,
   "metadata": {},
   "outputs": [],
   "source": []
  }
 ],
 "metadata": {
  "kernelspec": {
   "display_name": "Python 3",
   "language": "python",
   "name": "python3"
  },
  "language_info": {
   "codemirror_mode": {
    "name": "ipython",
    "version": 3
   },
   "file_extension": ".py",
   "mimetype": "text/x-python",
   "name": "python",
   "nbconvert_exporter": "python",
   "pygments_lexer": "ipython3",
   "version": "3.7.6"
  }
 },
 "nbformat": 4,
 "nbformat_minor": 2
}
