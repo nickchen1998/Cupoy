{
 "cells": [
  {
   "cell_type": "markdown",
   "metadata": {},
   "source": [
    "# API 資料串接 - 以 Dcard API 實作範例\n",
    "\n",
    "* 了解 Dcard API 使用方式與回傳內容\n",
    "* 撰寫程式存取 API 且解析 JSON 格式資料\n"
   ]
  },
  {
   "cell_type": "markdown",
   "metadata": {},
   "source": [
    "## 作業目標\n",
    "\n",
    "* 請利用 API: https://www.dcard.tw/_api/forums/pet/posts?popular=true 回答下列問題：\n",
    "\n",
    "1. 這個 API 一次會回傳幾筆資料？每一筆資料包含哪些欄位？\n",
    "2. 取出每一筆資料的「標題」、「貼文時間」、「留言人數」、「按讚人數」\n",
    "3. 計算熱門/非熱門文章的「平均留言人數」與「平均按讚人數」"
   ]
  },
  {
   "cell_type": "code",
   "execution_count": 2,
   "metadata": {},
   "outputs": [
    {
     "name": "stdout",
     "output_type": "stream",
     "text": [
      "共有 30 筆資料\n",
      "以下為每筆資料的欄位:\n",
      "dict_keys(['id', 'title', 'excerpt', 'anonymousSchool', 'anonymousDepartment', 'pinned', 'forumId', 'replyId', 'createdAt', 'updatedAt', 'commentCount', 'likeCount', 'withNickname', 'tags', 'topics', 'meta', 'forumName', 'forumAlias', 'nsfw', 'gender', 'school', 'department', 'replyTitle', 'mediaMeta', 'reactions', 'hidden', 'customStyle', 'isSuspiciousAccount', 'isModerator', 'layout', 'spoilerAlert', 'totalCommentCount', 'withImages', 'withVideos', 'media', 'reportReasonText', 'excerptComments', 'postAvatar', 'verifiedBadge', 'memberType'])\n"
     ]
    }
   ],
   "source": [
    "# 1. 這個 API 一次會回傳幾筆資料？每一筆資料包含哪些欄位？\n",
    "'''\n",
    "Your Code\n",
    "'''\n",
    "import requests, json\n",
    "\n",
    "url = 'https://www.dcard.tw/_api/forums/pet/posts?popular=true'\n",
    "result = requests.get(url)\n",
    "\n",
    "result = json.loads(result.text)\n",
    "\n",
    "print('共有 {} 筆資料'.format(len(result)))\n",
    "print('以下為每筆資料的欄位:\\n{}'.format(result[0].keys()))"
   ]
  },
  {
   "cell_type": "code",
   "execution_count": 4,
   "metadata": {},
   "outputs": [
    {
     "name": "stdout",
     "output_type": "stream",
     "text": [
      "標題:\n",
      "牠曾經是被人拋棄的暴牙狗\n",
      "貼文時間:\n",
      "2021-06-13T10:11:52.642Z\n",
      "留言人數:\n",
      "75\n",
      "按讚人數:\n",
      "1990\n",
      "標題:\n",
      "要不要吃一條貓壽司捲\n",
      "貼文時間:\n",
      "2021-06-13T06:25:54.948Z\n",
      "留言人數:\n",
      "11\n",
      "按讚人數:\n",
      "214\n",
      "標題:\n",
      "我家狗狗在練習自拍🤳🏼\n",
      "貼文時間:\n",
      "2021-06-13T13:40:52.263Z\n",
      "留言人數:\n",
      "3\n",
      "按讚人數:\n",
      "151\n",
      "標題:\n",
      "拜託愛媽不要出爾反爾，我心很累\n",
      "貼文時間:\n",
      "2021-06-13T09:21:39.686Z\n",
      "留言人數:\n",
      "50\n",
      "按讚人數:\n",
      "148\n",
      "標題:\n",
      "新手養貓（求救！！\n",
      "貼文時間:\n",
      "2021-06-12T22:04:09.634Z\n",
      "留言人數:\n",
      "41\n",
      "按讚人數:\n",
      "147\n"
     ]
    }
   ],
   "source": [
    "# 2. 取出每一筆資料的「標題」、「貼文時間」、「留言人數」、「按讚人數」\n",
    "'''\n",
    "Your Code\n",
    "'''\n",
    "x = 0\n",
    "\n",
    "for i in result:\n",
    "    print('標題:\\n{}'.format(i['title']))\n",
    "    print('貼文時間:\\n{}'.format(i['createdAt']))\n",
    "    print('留言人數:\\n{}'.format(i['commentCount']))\n",
    "    print('按讚人數:\\n{}'.format(i['likeCount']))\n",
    "    \n",
    "    #避免結果太長 Github 跑不太動故顯示五筆\n",
    "    x += 1\n",
    "    if x == 5:\n",
    "        break"
   ]
  },
  {
   "cell_type": "code",
   "execution_count": 5,
   "metadata": {},
   "outputs": [
    {
     "name": "stdout",
     "output_type": "stream",
     "text": [
      "平均留言人數:\n",
      "10.333333333333334\n",
      "平均按讚人數:\n",
      "112.26666666666667\n"
     ]
    }
   ],
   "source": [
    "# 3. 計算熱門/非熱門文章的「平均留言人數」與「平均按讚人數」\n",
    "'''\n",
    "Your Code\n",
    "'''\n",
    "comment_list = []\n",
    "like_list = []\n",
    "\n",
    "for i in result:\n",
    "    comment_list.append(int(i['commentCount']))\n",
    "    like_list.append(int(i['likeCount']))\n",
    "\n",
    "print(\"平均留言人數:\\n{}\".format(sum(comment_list)/len(comment_list))) \n",
    "print('平均按讚人數:\\n{}'.format(sum(like_list)/len(like_list)))"
   ]
  },
  {
   "cell_type": "code",
   "execution_count": null,
   "metadata": {},
   "outputs": [],
   "source": []
  }
 ],
 "metadata": {
  "kernelspec": {
   "display_name": "Python 3",
   "language": "python",
   "name": "python3"
  },
  "language_info": {
   "codemirror_mode": {
    "name": "ipython",
    "version": 3
   },
   "file_extension": ".py",
   "mimetype": "text/x-python",
   "name": "python",
   "nbconvert_exporter": "python",
   "pygments_lexer": "ipython3",
   "version": "3.7.6"
  }
 },
 "nbformat": 4,
 "nbformat_minor": 2
}
