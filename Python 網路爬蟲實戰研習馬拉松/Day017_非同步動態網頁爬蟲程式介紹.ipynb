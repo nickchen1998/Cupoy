{
 "cells": [
  {
   "cell_type": "markdown",
   "metadata": {},
   "source": [
    "# HTTP 動態網頁架構說明\n",
    "\n",
    "\n",
    "* 了解動態網頁的資料爬蟲策略\n",
    "* 知道非同步網頁載入機制（Ajax）\n",
    "* 學習兩種對應動態網頁爬蟲的的策略\n"
   ]
  },
  {
   "cell_type": "markdown",
   "metadata": {},
   "source": [
    "## 作業目標\n",
    "\n",
    "回答以下問題：\n",
    "\n",
    "1. 動態網頁跟靜態網頁的差別是什麼？原本靜態網頁的做法會產生什麼問題或是缺點？\n",
    "2. 還記得我們在 ETTODAY 靜態爬蟲實作練習中，有請大家完成一個題目「取出今天所有的發文」，但仔細看其實並沒有真的把當天所有的新聞都抓回來， 試著回答看看原因是什麼？及該如何檢查？\n"
   ]
  },
  {
   "cell_type": "markdown",
   "metadata": {},
   "source": [
    "### 1. 動態網頁跟靜態網頁的差別是什麼？原本靜態網頁的做法會產生什麼問題或是缺點？"
   ]
  },
  {
   "cell_type": "code",
   "execution_count": 5,
   "metadata": {},
   "outputs": [
    {
     "name": "stdout",
     "output_type": "stream",
     "text": [
      "ANS_1: \n",
      "動態網頁與靜態網頁的差別在於，\n",
      "動態網頁的資料是藉由 javascript 在需要的時候才回傳，\n",
      "並不會將所有資料一次載入 HTML\n",
      "ANS_2: \n",
      "原本靜態網頁的作法，當資料量過於龐大時，\n",
      "會造成網頁載入速度過慢，降低使用者體驗等缺點\n"
     ]
    }
   ],
   "source": [
    "'''\n",
    "Your Input\n",
    "'''\n",
    "print('ANS_1: ')\n",
    "print('動態網頁與靜態網頁的差別在於，\\n動態網頁的資料是藉由 javascript 在需要的時候才回傳，\\n並不會將所有資料一次載入 HTML')\n",
    "\n",
    "print('ANS_2: ')\n",
    "print('原本靜態網頁的作法，當資料量過於龐大時，\\n會造成網頁載入速度過慢，降低使用者體驗等缺點')"
   ]
  },
  {
   "cell_type": "markdown",
   "metadata": {},
   "source": [
    "### 2. 還記得我們在 ETTODAY 靜態爬蟲實作練習中，有請大家完成一個題目「取出今天所有的發文」，但仔細看其實並沒有真的把當天所有的新聞都抓回來， 試著回答看看原因是什麼？及該如何檢查？"
   ]
  },
  {
   "cell_type": "code",
   "execution_count": 7,
   "metadata": {},
   "outputs": [
    {
     "name": "stdout",
     "output_type": "stream",
     "text": [
      "ANS: \n",
      "每當使用者將網頁滑動到最下面時，\n",
      "該網頁就會自動透過 javascript 呼叫新的資料出來，\n",
      "因此才會造成用單純的 requests 只能抓出最初顯示的資料的問題\n"
     ]
    }
   ],
   "source": [
    "'''\n",
    "Your Input\n",
    "'''\n",
    "print('ANS: ')\n",
    "print('每當使用者將網頁滑動到最下面時，\\n該網頁就會自動透過 javascript 呼叫新的資料出來，\\n因此才會造成用單純的 requests 只能抓出最初顯示的資料的問題')"
   ]
  },
  {
   "cell_type": "code",
   "execution_count": null,
   "metadata": {},
   "outputs": [],
   "source": []
  },
  {
   "cell_type": "code",
   "execution_count": null,
   "metadata": {},
   "outputs": [],
   "source": []
  }
 ],
 "metadata": {
  "kernelspec": {
   "display_name": "Python 3",
   "language": "python",
   "name": "python3"
  },
  "language_info": {
   "codemirror_mode": {
    "name": "ipython",
    "version": 3
   },
   "file_extension": ".py",
   "mimetype": "text/x-python",
   "name": "python",
   "nbconvert_exporter": "python",
   "pygments_lexer": "ipython3",
   "version": "3.7.6"
  }
 },
 "nbformat": 4,
 "nbformat_minor": 2
}
